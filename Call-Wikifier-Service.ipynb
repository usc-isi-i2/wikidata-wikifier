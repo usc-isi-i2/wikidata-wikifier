{
 "cells": [
  {
   "cell_type": "markdown",
   "id": "spread-sudan",
   "metadata": {},
   "source": [
    "# Wikifier Docker Runbook"
   ]
  },
  {
   "cell_type": "markdown",
   "id": "sound-honolulu",
   "metadata": {},
   "source": [
    "## Setup Elasticsearch cluster on machines wikibase02, wikibase03 and wikibase04"
   ]
  },
  {
   "cell_type": "markdown",
   "id": "saved-accused",
   "metadata": {},
   "source": [
    "  1. On all machines\n",
    "\n",
    "    a. edit /etc/sysctl.conf and set vm.max_map_count=262144\n",
    "    \n",
    "    b. sudo sysctl --system\n",
    "    \n",
    "    c. sudo chmod 666 /var/run/docker.sock"
   ]
  },
  {
   "cell_type": "markdown",
   "id": "moderate-acceptance",
   "metadata": {},
   "source": [
    "  2. on wikibase02\n",
    "\n",
    "```\n",
    "    docker run -d --name elasticsearch --net novartis-es-network -p 9200:9200 -p 9300:9300 --name elasticsearch \\\n",
    "    -v /pool/amandeep/elasticsearch.data:/usr/share/elasticsearch/data \\\n",
    "    -e \"discovery.seed_hosts=wikibase03,wikibase04\" \\\n",
    "    -e \"node.name=es02\" \\\n",
    "    -e \"cluster.initial_master_nodes=es04,es02,es03\" \\\n",
    "    -e \"network.publish_host=wikibase02\" \\\n",
    "    -e \"ES_JAVA_OPTS=-Xms12g -Xmx12g\" \\\n",
    "    docker.elastic.co/elasticsearch/elasticsearch:7.12.1\n",
    "```"
   ]
  },
  {
   "cell_type": "markdown",
   "id": "engaged-sailing",
   "metadata": {},
   "source": [
    "  3. on wikibase03\n",
    "\n",
    "```\n",
    "    docker run -d -p 9200:9200 -p 9300:9300 \\\n",
    "    -v /pool/amandeep/elasticsearch.data:/usr/share/elasticsearch/data \\\n",
    "    -e \"discovery.seed_hosts=wikibase02,wikibase04\" \\\n",
    "    -e \"node.name=es03\" \\\n",
    "    -e \"cluster.initial_master_nodes=es02,es03,es04\" \\\n",
    "    -e \"network.publish_host=wikibase03\" \\\n",
    "    -e \"ES_JAVA_OPTS=-Xms12g -Xmx12g\" \\\n",
    "    docker.elastic.co/elasticsearch/elasticsearch:7.12.1\n",
    "```"
   ]
  },
  {
   "cell_type": "markdown",
   "id": "silver-matter",
   "metadata": {},
   "source": [
    "  4. on wikibase04\n",
    "\n",
    "```\n",
    "    docker run -d -p 9200:9200 -p 9300:9300 \\\n",
    "    -v /pool/amandeep/elasticsearch.data:/usr/share/elasticsearch/data \\\n",
    "    -e \"discovery.seed_hosts=wikibase02,wikibase03\" \\\n",
    "    -e \"node.name=es04\" \\\n",
    "    -e \"cluster.initial_master_nodes=es04,es02,es03\" \\\n",
    "    -e \"network.publish_host=wikibase04\" \\\n",
    "    -e \"ES_JAVA_OPTS=-Xms12g -Xmx12g\" \\\n",
    "    docker.elastic.co/elasticsearch/elasticsearch:7.12.1\n",
    "```"
   ]
  },
  {
   "cell_type": "markdown",
   "id": "exact-queen",
   "metadata": {},
   "source": [
    "  5. Check if all three nodes are up and form a cluster\n",
    "\n",
    "```\n",
    "    curl localhost:9200/_cat/nodes?v\n",
    "    ip         heap.percent ram.percent cpu load_1m load_5m load_15m node.role   master name\n",
    "    172.16.4.7           33          92  11    2.41    1.07     1.37 cdfhilmrstw -      es03\n",
    "    172.16.4.8           54          84  10    2.96    1.23     1.61 cdfhilmrstw -      es04\n",
    "    172.16.4.6           50          97  13    3.00    1.29     1.72 cdfhilmrstw *      es02\n",
    "```"
   ]
  },
  {
   "cell_type": "markdown",
   "id": "turkish-luxembourg",
   "metadata": {},
   "source": [
    "  6. Create index with mapping file\n",
    "\n",
    "```\n",
    "curl -H \"Content-Type: application/json\" -XPUT http://localhost:9200/wikidatadwd-augmented-01 -d @wikidata_dwd_mapping_es_ver7.json\n",
    "```\n",
    "\n",
    "The mapping file `wikidata_dwd_mapping_es_ver7.json` is present at `/pool/amandeep/wikidata-20210215-dwd` in `wikibase02`"
   ]
  },
  {
   "cell_type": "markdown",
   "id": "virgin-blackberry",
   "metadata": {},
   "source": [
    "  7. Load data to elasticsearch index using table-linker docker\n",
    "  \n",
    "  \n",
    "  Create a script load_es.sh in `LOCAL_PATH` by copying the following lines to the script:\n",
    "  \n",
    "```\n",
    "es_url=$1\n",
    "es_index=$2\n",
    "files_path=$3\n",
    "\n",
    "for f in $files_path/* ;\n",
    "do\n",
    " tl load-elasticsearch-index --es-url $es_url --es-index $es_index --es-version 7 --kgtk-jl-path $f\n",
    " sleep 60\n",
    "done\n",
    "\n",
    "```\n",
    "\n",
    "The first parameter is the Elasticsearch URL\n",
    "\n",
    "Second parameter: Elasticsearch index name\n",
    "\n",
    "Third parameter: path to the folder with the files to be loaded into Elasticsearch.\n",
    "  \n",
    "The Dockerfile for table-linker: https://github.com/usc-isi-i2/table-linker/blob/master/Dockerfile\n",
    "\n",
    "```\n",
    "    git clone https://github.com/usc-isi-i2/table-linker\n",
    "    cd table-linker\n",
    "    docker build -t table-linker .\n",
    "    docker run -it --rm -v <LOCAL_PATH>:/mnt/data   table-linker /bin/bash /mnt/data/load_es.sh \"http://localhost:9200\" \"wikidatadwd-augmented-02\" \"/mnt/data/es_split\"\n",
    "```\n",
    " \n",
    "THE LOCAL_PATH is a path on local machine where load_es.sh and the data to be loaded should be present. In load_es.sh the --kgtk-jl-path should be the docker container path.\n",
    "\n",
    "The script path: `/pool/amandeep/wikidata-20210215-dwd/load_es.sh` (wikibase02).\n",
    "\n",
    "The data files are in the folder `/pool/amandeep/wikidata-20210215-dwd/es_split`"
   ]
  },
  {
   "cell_type": "markdown",
   "id": "built-fisher",
   "metadata": {},
   "source": [
    "**NOTE**: The above step can take a long time. If running on a server, it is advisable to run the above command in a `tmux` or `screen` session."
   ]
  },
  {
   "cell_type": "markdown",
   "id": "behavioral-stopping",
   "metadata": {},
   "source": [
    " 8. Create Alias for Elasticsearch Index\n",
    "\n",
    "```\n",
    "curl -X POST \"localhost:9200/_aliases?pretty\" -H 'Content-Type: application/json' -d'\n",
    "{\n",
    "  \"actions\" : [\n",
    "    { \"add\" : { \"index\" : \"wikidatadwd-augmented-01\", \"alias\" : \"wikidatadwd-augmented\" } }\n",
    "  ]\n",
    "}\n",
    "'\n",
    "```"
   ]
  },
  {
   "cell_type": "markdown",
   "id": "mysterious-representation",
   "metadata": {},
   "source": [
    "9. Create a new index and switch the alias\n",
    "\n",
    "Suppose the current index is: `wikidatadwd-augmented-01` and we create a new index with more documents, `wikidatadwd-augmented-02`. Following curl command will switch the alias `wikidatadwd-augmented` from `wikidatadwd-augmented-01` to `wikidatadwd-augmented-02`.\n",
    "\n",
    "\n",
    "```\n",
    "curl -X POST \"localhost:9200/_aliases?pretty\" -H 'Content-Type: application/json' -d'\n",
    "{\n",
    "  \"actions\" : [\n",
    "    { \"remove\" : { \"index\" : \"wikidatadwd-augmented-01\", \"alias\" : \"wikidatadwd-augmented\" } },\n",
    "    { \"add\" : { \"index\" : \"wikidatadwd-augmented-02\", \"alias\" : \"wikidatadwd-augmented\" } }\n",
    "  ]\n",
    "}\n",
    "'\n",
    "\n",
    "```"
   ]
  },
  {
   "cell_type": "markdown",
   "id": "naked-wrong",
   "metadata": {},
   "source": [
    "## Steps to build, setup and run the Wikifier Docker"
   ]
  },
  {
   "cell_type": "markdown",
   "id": "indie-terry",
   "metadata": {},
   "source": [
    " 1. Download the git repository\n",
    "\n",
    "```\n",
    "git clone https://github.com/usc-isi-i2/wikidata-wikifier\n",
    "```\n",
    "\n",
    "\n",
    " 2. change directory to `wikidata-wikifier`\n",
    "\n",
    "```\n",
    "cd wikidata-wikifier\n",
    "```\n",
    "\n",
    "\n",
    " 3. Build the docker image\n",
    "\n",
    "```\n",
    "docker build -t wikidata-wikifier .\n",
    "```\n",
    "\n",
    "**NOTE: Rebuilding docker image, in case of updates**\n",
    "\n",
    "```\n",
    "docker build -t wikidata-wikifier . --no-cache\n",
    "```\n",
    "\n",
    "\n",
    " 4. Setup environment variables in `docker-compose.yml`\n",
    "      - WIKIFIER_ES_URL # Elasticsearch URL, if ES is running on wikibase02, then set this parameter to http://wikibase02:9200\n",
    "      - WIKIFIER_ES_INDEX # Elasticsearch Index, wikidatadwd-augmented (use the Alias created in previous steps)"
   ]
  },
  {
   "cell_type": "markdown",
   "id": "23d8ed06-0cd6-4919-b213-e43ccf60950c",
   "metadata": {},
   "source": [
    " 5. Bring the wikifier container up\n",
    "\n",
    "```\n",
    "docker-compose up -d\n",
    "```"
   ]
  },
  {
   "cell_type": "markdown",
   "id": "73f94914-468c-46e8-b071-8fafe7c5f239",
   "metadata": {},
   "source": [
    " 6. Wikifier should be running at `http://localhost:1703`"
   ]
  },
  {
   "cell_type": "markdown",
   "id": "deluxe-action",
   "metadata": {},
   "source": [
    "# Call Wikidata Wikifier Service"
   ]
  },
  {
   "cell_type": "code",
   "execution_count": 3,
   "id": "hybrid-paraguay",
   "metadata": {},
   "outputs": [],
   "source": [
    "import os\n",
    "import requests\n",
    "import pandas as pd\n",
    "from io import StringIO"
   ]
  },
  {
   "cell_type": "markdown",
   "id": "potential-practitioner",
   "metadata": {},
   "source": [
    "## Setup parameters"
   ]
  },
  {
   "cell_type": "code",
   "execution_count": 1,
   "id": "secondary-spencer",
   "metadata": {},
   "outputs": [],
   "source": [
    "wikifier_service_url = \"http://localhost:1703/wikify\"\n",
    "input_file = './wikifier/sample_files/cricketers.csv'\n",
    "column_to_wikify = \"cricketers\""
   ]
  },
  {
   "cell_type": "markdown",
   "id": "piano-andrews",
   "metadata": {},
   "source": [
    "## Peek at the input file"
   ]
  },
  {
   "cell_type": "code",
   "execution_count": 6,
   "id": "respiratory-german",
   "metadata": {},
   "outputs": [
    {
     "data": {
      "text/html": [
       "<div>\n",
       "<style scoped>\n",
       "    .dataframe tbody tr th:only-of-type {\n",
       "        vertical-align: middle;\n",
       "    }\n",
       "\n",
       "    .dataframe tbody tr th {\n",
       "        vertical-align: top;\n",
       "    }\n",
       "\n",
       "    .dataframe thead th {\n",
       "        text-align: right;\n",
       "    }\n",
       "</style>\n",
       "<table border=\"1\" class=\"dataframe\">\n",
       "  <thead>\n",
       "    <tr style=\"text-align: right;\">\n",
       "      <th></th>\n",
       "      <th>cricketers</th>\n",
       "      <th>teams</th>\n",
       "      <th>weight</th>\n",
       "      <th>dob</th>\n",
       "    </tr>\n",
       "  </thead>\n",
       "  <tbody>\n",
       "    <tr>\n",
       "      <th>0</th>\n",
       "      <td>Virat Kohli</td>\n",
       "      <td>royal challengers bangalore</td>\n",
       "      <td>152</td>\n",
       "      <td>5/11/88</td>\n",
       "    </tr>\n",
       "    <tr>\n",
       "      <th>1</th>\n",
       "      <td>Tendulkar</td>\n",
       "      <td>mumbai indians</td>\n",
       "      <td>137</td>\n",
       "      <td>24/04/1973</td>\n",
       "    </tr>\n",
       "    <tr>\n",
       "      <th>2</th>\n",
       "      <td>Dhoni</td>\n",
       "      <td>chennai super kings</td>\n",
       "      <td>154</td>\n",
       "      <td>7/7/81</td>\n",
       "    </tr>\n",
       "    <tr>\n",
       "      <th>3</th>\n",
       "      <td>Jasprit Bumrah</td>\n",
       "      <td>mumbai indians</td>\n",
       "      <td>154</td>\n",
       "      <td>6/12/93</td>\n",
       "    </tr>\n",
       "    <tr>\n",
       "      <th>4</th>\n",
       "      <td>Ajinkya Rahane</td>\n",
       "      <td>rajasthan royals</td>\n",
       "      <td>134</td>\n",
       "      <td>6/6/88</td>\n",
       "    </tr>\n",
       "    <tr>\n",
       "      <th>5</th>\n",
       "      <td>Rohit Sharma</td>\n",
       "      <td>mumbai indians</td>\n",
       "      <td>159</td>\n",
       "      <td>30/04/1987</td>\n",
       "    </tr>\n",
       "    <tr>\n",
       "      <th>6</th>\n",
       "      <td>Bhuvneshwar Kumar</td>\n",
       "      <td>deccan chargers</td>\n",
       "      <td>154</td>\n",
       "      <td>5/2/90</td>\n",
       "    </tr>\n",
       "    <tr>\n",
       "      <th>7</th>\n",
       "      <td>Ravindra Jadeja</td>\n",
       "      <td>chennai super kings</td>\n",
       "      <td>132</td>\n",
       "      <td>6/12/88</td>\n",
       "    </tr>\n",
       "    <tr>\n",
       "      <th>8</th>\n",
       "      <td>Rishabh Pant</td>\n",
       "      <td>delhi capitals</td>\n",
       "      <td>136</td>\n",
       "      <td>4/8/97</td>\n",
       "    </tr>\n",
       "    <tr>\n",
       "      <th>9</th>\n",
       "      <td>Shikhar Dhawan</td>\n",
       "      <td>delhi capitals</td>\n",
       "      <td>157</td>\n",
       "      <td>5/12/85</td>\n",
       "    </tr>\n",
       "    <tr>\n",
       "      <th>10</th>\n",
       "      <td>Cheteshwar Pujara</td>\n",
       "      <td>deccan chargers</td>\n",
       "      <td>157</td>\n",
       "      <td>25/01/1988</td>\n",
       "    </tr>\n",
       "    <tr>\n",
       "      <th>11</th>\n",
       "      <td>Ishant Sharma</td>\n",
       "      <td>delhi capitals</td>\n",
       "      <td>168</td>\n",
       "      <td>2/9/88</td>\n",
       "    </tr>\n",
       "    <tr>\n",
       "      <th>12</th>\n",
       "      <td>Mohammad Shami</td>\n",
       "      <td>kings XI punjab</td>\n",
       "      <td>152</td>\n",
       "      <td>3/9/90</td>\n",
       "    </tr>\n",
       "  </tbody>\n",
       "</table>\n",
       "</div>"
      ],
      "text/plain": [
       "           cricketers                        teams  weight         dob\n",
       "0         Virat Kohli  royal challengers bangalore     152     5/11/88\n",
       "1           Tendulkar               mumbai indians     137  24/04/1973\n",
       "2               Dhoni          chennai super kings     154      7/7/81\n",
       "3      Jasprit Bumrah               mumbai indians     154     6/12/93\n",
       "4      Ajinkya Rahane             rajasthan royals     134      6/6/88\n",
       "5        Rohit Sharma               mumbai indians     159  30/04/1987\n",
       "6   Bhuvneshwar Kumar              deccan chargers     154      5/2/90\n",
       "7     Ravindra Jadeja          chennai super kings     132     6/12/88\n",
       "8        Rishabh Pant               delhi capitals     136      4/8/97\n",
       "9      Shikhar Dhawan               delhi capitals     157     5/12/85\n",
       "10  Cheteshwar Pujara              deccan chargers     157  25/01/1988\n",
       "11      Ishant Sharma               delhi capitals     168      2/9/88\n",
       "12     Mohammad Shami              kings XI punjab     152      3/9/90"
      ]
     },
     "execution_count": 6,
     "metadata": {},
     "output_type": "execute_result"
    }
   ],
   "source": [
    "pd.read_csv(input_file).fillna(\"\")"
   ]
  },
  {
   "cell_type": "markdown",
   "id": "premier-minister",
   "metadata": {},
   "source": [
    "## Call via Python"
   ]
  },
  {
   "cell_type": "code",
   "execution_count": 7,
   "id": "foster-findings",
   "metadata": {},
   "outputs": [],
   "source": [
    "def call_wikifier(url, k=1):\n",
    "    file_name = os.path.basename(input_file)\n",
    "    url += f'?k={k}&columns={column_to_wikify}'\n",
    "\n",
    "    files = {\n",
    "        'file': (file_name, open(input_file, mode='rb'), 'application/octet-stream')\n",
    "    }\n",
    "    resp = requests.post(url, files=files)\n",
    "\n",
    "    s = str(resp.content, 'utf-8')\n",
    "\n",
    "    data = StringIO(s)\n",
    "\n",
    "    return pd.read_csv(data, header=None)"
   ]
  },
  {
   "cell_type": "code",
   "execution_count": null,
   "id": "duplicate-catalyst",
   "metadata": {},
   "outputs": [],
   "source": [
    "df = call_wikifier(wikifier_service_url, k=3)"
   ]
  },
  {
   "cell_type": "code",
   "execution_count": null,
   "id": "informal-dream",
   "metadata": {},
   "outputs": [],
   "source": [
    "df"
   ]
  },
  {
   "cell_type": "code",
   "execution_count": 13,
   "id": "embedded-thousand",
   "metadata": {},
   "outputs": [],
   "source": [
    "df.fillna(\"\").to_csv('/tmp/linked_cricketers.csv', index=False)"
   ]
  },
  {
   "cell_type": "markdown",
   "id": "broad-archives",
   "metadata": {},
   "source": [
    "## Call using `curl`"
   ]
  },
  {
   "cell_type": "code",
   "execution_count": 32,
   "id": "agreed-manual",
   "metadata": {},
   "outputs": [],
   "source": [
    "url  =  f'{wikifier_service_url}?k=3&columns={column_to_wikify}'"
   ]
  },
  {
   "cell_type": "code",
   "execution_count": 35,
   "id": "decent-judges",
   "metadata": {},
   "outputs": [
    {
     "name": "stdout",
     "output_type": "stream",
     "text": [
      " curl -XPOST -F file=@/Users/amandeep/Github/wikidata-wikifier/wikifier/sample_files/cricketers.csv  https://dsbox02.isi.edu:8888/wikifier/wikify?k=3&columns=cricketers \n"
     ]
    }
   ],
   "source": [
    "curl -XPOST -F \"file=@$input_file\"  \"$url\""
   ]
  },
  {
   "cell_type": "markdown",
   "id": "401bec2c-9892-485a-9730-97881cb8e1a4",
   "metadata": {},
   "source": [
    "## Run table-linker commands in a jupyter notebook via Docker"
   ]
  },
  {
   "cell_type": "markdown",
   "id": "872c89d3-04ee-45cb-9885-c578627ff1f9",
   "metadata": {},
   "source": [
    "Build the table-linker docker (if not already built)\n",
    "\n",
    "```\n",
    "cd table-linker\n",
    "docker build -t table-linker .\n",
    "```"
   ]
  },
  {
   "cell_type": "markdown",
   "id": "fc9d6f1e-3e58-42aa-b0d3-9bea93dd6fb6",
   "metadata": {},
   "source": [
    "Run jupyter notebook\n",
    "\n",
    "Assuming `LOCAL_PATH` has the notebook to be run and the input file. Mount `LOCAL_PATH` to a folder `/out` in the docker container and run the following command\n",
    "\n",
    "```\n",
    "docker run -it -v <LOCAL_PATH>:/out -p 8888:8888 table-linker:latest /bin/bash -c \"jupyter lab --ip='*' --port=8888 --no-browser --allow-root\"\n",
    "```\n",
    "\n",
    "This will run the jupyter server and produce output like,\n",
    "\n",
    "```\n",
    "[I 2021-07-19 17:13:15.687 LabApp] JupyterLab extension loaded from /usr/local/lib/python3.7/site-packages/jupyterlab\n",
    "[I 2021-07-19 17:13:15.687 LabApp] JupyterLab application directory is /usr/local/share/jupyter/lab\n",
    "[I 17:13:15.698 NotebookApp] Serving notebooks from local directory: /\n",
    "[I 17:13:15.698 NotebookApp] Jupyter Notebook 6.4.0 is running at:\n",
    "[I 17:13:15.699 NotebookApp] http://a16fa96774c1:8888/?token=2f25a3501853ff6e4177871f869fc9ed83029a42f5242677\n",
    "[I 17:13:15.699 NotebookApp]  or http://127.0.0.1:8888/?token=2f25a3501853ff6e4177871f869fc9ed83029a42f5242677\n",
    "[I 17:13:15.699 NotebookApp] Use Control-C to stop this server and shut down all kernels (twice to skip confirmation).\n",
    "[C 17:13:15.706 NotebookApp]\n",
    "\n",
    "    To access the notebook, open this file in a browser:\n",
    "        file:///root/.local/share/jupyter/runtime/nbserver-1-open.html\n",
    "    Or copy and paste one of these URLs:\n",
    "        http://a16fa96774c1:8888/?token=2f25a3501853ff6e4177871f869fc9ed83029a42f5242677\n",
    "     or http://127.0.0.1:8888/?token=2f25a3501853ff6e4177871f869fc9ed83029a42f5242677\n",
    "^C[I 17:46:25.704 NotebookApp] interrupted\n",
    "Serving notebooks from local directory: /\n",
    "0 active kernels\n",
    "Jupyter Notebook 6.4.0 is running at:\n",
    "http://a16fa96774c1:8888/?token=2f25a3501853ff6e4177871f869fc9ed83029a42f5242677\n",
    " or http://127.0.0.1:8888/?token=2f25a3501853ff6e4177871f869fc9ed83029a42f5242677\n",
    "```\n",
    "\n",
    "Copy paste the url `http://127.0.0.1:8888/?token=2f25a3501853ff6e4177871f869fc9ed83029a42f5242677` into the browser to access jupyter notebooks in the browser."
   ]
  },
  {
   "cell_type": "code",
   "execution_count": null,
   "id": "5479455f-887a-46a4-b876-ba9d793ac63a",
   "metadata": {},
   "outputs": [],
   "source": []
  }
 ],
 "metadata": {
  "kernelspec": {
   "display_name": "tl_env",
   "language": "python",
   "name": "tl_env"
  },
  "language_info": {
   "codemirror_mode": {
    "name": "ipython",
    "version": 3
   },
   "file_extension": ".py",
   "mimetype": "text/x-python",
   "name": "python",
   "nbconvert_exporter": "python",
   "pygments_lexer": "ipython3",
   "version": "3.8.3"
  }
 },
 "nbformat": 4,
 "nbformat_minor": 5
}
