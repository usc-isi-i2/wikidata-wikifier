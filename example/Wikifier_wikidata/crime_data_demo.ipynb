{
 "cells": [
  {
   "cell_type": "markdown",
   "metadata": {},
   "source": [
    "# FBI Crime Data Modeling Demo"
   ]
  },
  {
   "cell_type": "code",
   "execution_count": 1,
   "metadata": {},
   "outputs": [
    {
     "name": "stderr",
     "output_type": "stream",
     "text": [
      "/anaconda3/envs/etk2_env/lib/python3.6/site-packages/requests/__init__.py:91: RequestsDependencyWarning: urllib3 (1.25.2) or chardet (3.0.4) doesn't match a supported version!\n",
      "  RequestsDependencyWarning)\n"
     ]
    }
   ],
   "source": [
    "# Import FBI_Crime_Model class\n",
    "from FBI_Crime_Model import FBI_Crime_Model"
   ]
  },
  {
   "cell_type": "code",
   "execution_count": 2,
   "metadata": {},
   "outputs": [
    {
     "name": "stdout",
     "output_type": "stream",
     "text": [
      "\n",
      "\n",
      "County - QNode mapping dictionary created\n",
      "\n",
      "\n",
      "webercounty_ut: Q26754\n",
      "siouxcounty_nd: Q48850\n",
      "eddycounty_nd: Q48863\n",
      "fostercounty_nd: Q48931\n",
      "caldwellcounty_tx: Q26591\n",
      "gonzalescounty_tx: Q26614\n",
      "norfolkcounty_ma: Q54079\n",
      "milamcounty_tx: Q26716\n",
      "libertycounty_tx: Q26719\n",
      "lavacacounty_tx: Q27023\n"
     ]
    }
   ],
   "source": [
    "# Create an instance of FBI_Crime_Model\n",
    "model = FBI_Crime_Model()\n",
    "\n",
    "# Query wikidata to get county_name and QNode pair, save them to local disk\n",
    "c_q = model.query_QNodes()\n",
    "\n",
    "for i,v in enumerate(c_q):\n",
    "    if i < 10:\n",
    "        print(v + ': ' + c_q[v])"
   ]
  },
  {
   "cell_type": "code",
   "execution_count": 3,
   "metadata": {},
   "outputs": [
    {
     "name": "stdout",
     "output_type": "stream",
     "text": [
      "Downloading crime data: california_2015\n",
      "Downloading crime data: alabama_2015\n",
      "Downloading crime data: california_2016\n",
      "Downloading crime data: alabama_2016\n",
      "\n",
      "\n",
      "Download completed!\n"
     ]
    }
   ],
   "source": [
    "\"\"\"\n",
    "Download designated crime data to local disk\n",
    "\n",
    "Args:\n",
    "    year: int, the year of the data\n",
    "    states: list of str, leave it None to download data for all states, default: None\n",
    "\"\"\"\n",
    "model.download_data(years = [2015, 2016], states = ['california', 'alabama'])"
   ]
  },
  {
   "cell_type": "code",
   "execution_count": 4,
   "metadata": {},
   "outputs": [
    {
     "name": "stdout",
     "output_type": "stream",
     "text": [
      "Extracting crime data for california_2015\n",
      "Extracting crime data for alabama_2015\n",
      "Extracting crime data for california_2016\n",
      "Extracting crime data for alabama_2016\n",
      "\n",
      "\n",
      "Extraction completed!\n",
      "\n",
      "Sample of Los Angeles:\n",
      "violent_crime: 6124\n",
      "murder_and_nonnegligent_manslaughter: 94\n",
      "rape_(revised_definition): 307\n",
      "robbery: 1474\n",
      "aggravated_assault: 4249\n",
      "property_crime: 17498\n",
      "burglary: 3816\n",
      "larceny-_theft: 9328\n",
      "motor_vehicle_theft: 4354\n",
      "arson: 227\n"
     ]
    }
   ],
   "source": [
    "\"\"\"\n",
    "Extract data from downloaded excel files in the local disk\n",
    "\n",
    "Args:\n",
    "    year: int, the year of the data\n",
    "    states: list of str, leave it None to extract data for all states, default: None\n",
    "    \n",
    "return a dict contains the extracted data\n",
    "\"\"\"\n",
    "res = model.extract_data(years = [2015, 2016], states = ['california', 'alabama'])\n",
    "\n",
    "print('\\nSample of Los Angeles:')\n",
    "la_data = res['california_2016']['losangeles']\n",
    "for data in la_data:\n",
    "    print(data + ': ' + str(la_data[data]))"
   ]
  },
  {
   "cell_type": "code",
   "execution_count": 5,
   "metadata": {},
   "outputs": [
    {
     "name": "stdout",
     "output_type": "stream",
     "text": [
      "Modeling data for california_2015\n",
      "Modeling data for alabama_2015\n",
      "Modeling data for california_2016\n",
      "Modeling data for alabama_2016\n",
      "\n",
      "\n",
      "Modeling completed!\n",
      "\n",
      "\n",
      "Serialization completed!\n"
     ]
    }
   ],
   "source": [
    "\"\"\"\n",
    "Model extracted data to Wikidata format and serialize to file\n",
    "\n",
    "Args:\n",
    "    crime_data: dict, should be the output of `extract_data` function\n",
    "    file_path: str, file path that to store the serialization\n",
    "    format: str, the format of serialization, default: 'ttl'\n",
    "\"\"\"\n",
    "model.model_data(res, 'crime_wikidata.ttl')"
   ]
  },
  {
   "cell_type": "code",
   "execution_count": 6,
   "metadata": {},
   "outputs": [],
   "source": [
    "from etk.wikidata import serialize_change_record\n",
    "\n",
    "# save changes\n",
    "with open('changes.tsv', 'w') as fp:\n",
    "    serialize_change_record(fp)"
   ]
  }
 ],
 "metadata": {
  "kernelspec": {
   "display_name": "Python (etk2_env)",
   "language": "python",
   "name": "etk2_env"
  },
  "language_info": {
   "codemirror_mode": {
    "name": "ipython",
    "version": 3
   },
   "file_extension": ".py",
   "mimetype": "text/x-python",
   "name": "python",
   "nbconvert_exporter": "python",
   "pygments_lexer": "ipython3",
   "version": "3.6.8"
  }
 },
 "nbformat": 4,
 "nbformat_minor": 2
}
